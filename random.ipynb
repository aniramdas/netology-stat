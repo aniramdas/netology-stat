{
 "cells": [
  {
   "cell_type": "code",
   "execution_count": 1,
   "metadata": {},
   "outputs": [],
   "source": [
    "import numpy as np"
   ]
  },
  {
   "cell_type": "code",
   "execution_count": 14,
   "metadata": {},
   "outputs": [
    {
     "name": "stdout",
     "output_type": "stream",
     "text": [
      "выигрыш равен 688 рублей в 198 играх из 1000 попыток\n",
      "вероятность выйгрыша 0.198, выгода/убыток -312 рублей\n"
     ]
    }
   ],
   "source": [
    "trials = 1000 #количество попыток\n",
    "wins = 0 #количество побед\n",
    "money = 0 #выигрыш за попытку\n",
    "for i in range(trials):\n",
    "    random_score = np.random.randint(0,1000)\n",
    "    if random_score == 777:\n",
    "        money += 200\n",
    "        wins += 1\n",
    "    elif random_score == 999:\n",
    "        money += 100\n",
    "        wins += 1\n",
    "    elif random_score == 555:\n",
    "        money += 50\n",
    "        wins += 1\n",
    "    elif random_score == 333:\n",
    "        money += 15\n",
    "        wins += 1\n",
    "    elif random_score == 111:\n",
    "        money += 10\n",
    "        wins += 1\n",
    "    elif random_score % 100 == 77:\n",
    "        money += 5\n",
    "        wins += 1\n",
    "    elif random_score % 10 == 7:\n",
    "        money += 3\n",
    "        wins += 1\n",
    "    elif random_score % 100 == 0:\n",
    "        money += 2 \n",
    "        wins += 1\n",
    "    elif random_score % 10 == 0:\n",
    "        money += 1\n",
    "        wins += 1\n",
    "p_monte_carlo = wins / trials # используем метод монте-карло\n",
    "profit = money - trials\n",
    "print(f'выигрыш равен {money} рублей в {wins} играх из {trials} попыток')\n",
    "print(f'вероятность выйгрыша {p_monte_carlo}, выгода/убыток {profit} рублей')"
   ]
  },
  {
   "cell_type": "markdown",
   "metadata": {},
   "source": [
    "Теоретическая вероятность выигрыша"
   ]
  },
  {
   "cell_type": "code",
   "execution_count": 7,
   "metadata": {},
   "outputs": [
    {
     "name": "stdout",
     "output_type": "stream",
     "text": [
      "10\n"
     ]
    }
   ],
   "source": [
    "count_num = 0\n",
    "for x in range(0,1000):\n",
    "    if x % 100 == 77:\n",
    "        count_num += 1\n",
    "print(count_num)"
   ]
  }
 ],
 "metadata": {
  "kernelspec": {
   "display_name": "Python 3",
   "language": "python",
   "name": "python3"
  },
  "language_info": {
   "codemirror_mode": {
    "name": "ipython",
    "version": 3
   },
   "file_extension": ".py",
   "mimetype": "text/x-python",
   "name": "python",
   "nbconvert_exporter": "python",
   "pygments_lexer": "ipython3",
   "version": "3.8.5"
  }
 },
 "nbformat": 4,
 "nbformat_minor": 4
}
